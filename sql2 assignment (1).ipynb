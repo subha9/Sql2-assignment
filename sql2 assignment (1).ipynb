{
 "cells": [
  {
   "cell_type": "code",
   "execution_count": 1,
   "metadata": {},
   "outputs": [],
   "source": [
    "import pandas as pd\n",
    "import sqlalchemy as sqy\n",
    "from sqlalchemy import  create_engine,Column,Integer,String,Float\n",
    "from sqlalchemy.ext.declarative import declarative_base\n",
    "from sqlalchemy.orm import sessionmaker"
   ]
  },
  {
   "cell_type": "code",
   "execution_count": 10,
   "metadata": {},
   "outputs": [],
   "source": [
    "df = pd.read_csv('https://archive.ics.uci.edu/ml/machine-learning-databases/adult/adult.data')\n",
    "\n",
    "# List of Column Names from the Adultnames file\n",
    "ColumnNames= ['age','workclass','fnlwgt','education','educationNum','maritalStatus','occupation','relationship','race','sex','capitalGain','capitalLoss','hoursperweek','nativeCountry','salperyear']\n",
    "\n",
    "df.columns = ColumnNamesColumnNames= ['age','workclass','fnlwgt','education','educationNum','maritalStatus','occupation','relationship','race','sex','capitalGain','capitalLoss','hoursperweek','nativeCountry','salperyear']\n",
    "df.columns = ColumnNames"
   ]
  },
  {
   "cell_type": "code",
   "execution_count": 11,
   "metadata": {},
   "outputs": [],
   "source": [
    "df.columns = ColumnNames"
   ]
  },
  {
   "cell_type": "code",
   "execution_count": 12,
   "metadata": {},
   "outputs": [
    {
     "data": {
      "text/plain": [
       "Index(['age', 'workclass', 'fnlwgt', 'education', 'educationNum',\n",
       "       'maritalStatus', 'occupation', 'relationship', 'race', 'sex',\n",
       "       'capitalGain', 'capitalLoss', 'hoursperweek', 'nativeCountry',\n",
       "       'salperyear'],\n",
       "      dtype='object')"
      ]
     },
     "execution_count": 12,
     "metadata": {},
     "output_type": "execute_result"
    }
   ],
   "source": [
    "df.columns"
   ]
  },
  {
   "cell_type": "code",
   "execution_count": 13,
   "metadata": {},
   "outputs": [],
   "source": [
    "engine = create_engine('sqlite:///:memory:', echo=False)"
   ]
  },
  {
   "cell_type": "code",
   "execution_count": 14,
   "metadata": {},
   "outputs": [],
   "source": [
    "# Constructing the Base Class from declarative to create table from it \n",
    "Base = declarative_base() \n",
    "\n",
    "class Adult(Base):\n",
    "    __tablename__ = 'adult'\n",
    "\n",
    "    id = Column(Integer, primary_key=True)\n",
    "    age = Column(Integer)\n",
    "    workclass = Column(String)\n",
    "    fnlwgt = Column(Integer)\n",
    "    education = Column(String)\n",
    "    educationNum = Column(Integer)\n",
    "    maritalStatus = Column(String)\n",
    "    occupation = Column(String)\n",
    "    relationship = Column(String)\n",
    "    race = Column(String)\n",
    "    sex = Column(String)\n",
    "    capitalGain = Column(Integer)\n",
    "    capitalLoss = Column(Integer)\n",
    "    hoursperweek = Column(Integer)\n",
    "    nativeCountry = Column(String)\n",
    "    salperyear = Column(String)\n",
    "    \n",
    "    \n",
    "    "
   ]
  },
  {
   "cell_type": "code",
   "execution_count": 15,
   "metadata": {},
   "outputs": [],
   "source": [
    "    def __repr__(self):\n",
    "        return \"<Adult(age='%d', workclass='%s', fnlwgt='%d',education='%s', educationNum='%d',maritalStatus ='%s',occupation ='%s',relationship ='%s',race ='%s',sex ='%s',capitalGain ='%d',capitalLoss ='%d',hoursperweek ='%d',nativeCountry ='%s',salperyear ='%s')>\" %(\n",
    "    self.age, self.workclass,self.fnlwgt,self.education,self.educationNum,self.maritalStatus,self.occupation,self.relationship,self.race,self.sex,self.capitalGain,self.capitalLoss,self.hoursperweek,self.nativeCountry,self.salperyear)\n",
    "\n",
    "\n",
    "# creating the Table in the Engine, i.e memory\n",
    "Base.metadata.create_all(engine)\n",
    "\n",
    "#binding the engine to the session \n",
    "SessionMaker = sessionmaker(bind=engine)\n",
    "\n",
    "session = SessionMaker()"
   ]
  },
  {
   "cell_type": "code",
   "execution_count": 16,
   "metadata": {},
   "outputs": [
    {
     "data": {
      "text/plain": [
       "<sqlalchemy.orm.session.Session at 0x29a7aadb470>"
      ]
     },
     "execution_count": 16,
     "metadata": {},
     "output_type": "execute_result"
    }
   ],
   "source": [
    "session"
   ]
  },
  {
   "cell_type": "code",
   "execution_count": 18,
   "metadata": {},
   "outputs": [
    {
     "name": "stdout",
     "output_type": "stream",
     "text": [
      "Following are the records from the adult table in memory retrieved and printed :\n",
      " --------------------------------------------------------------------------------\n",
      "<__main__.Adult object at 0x0000029A7747BB00>\n",
      "--------------------------------------------------------------------------------\n",
      "<__main__.Adult object at 0x0000029A7747BB70>\n",
      "--------------------------------------------------------------------------------\n",
      "<__main__.Adult object at 0x0000029A7747BBE0>\n",
      "--------------------------------------------------------------------------------\n",
      "<__main__.Adult object at 0x0000029A7747BC50>\n",
      "--------------------------------------------------------------------------------\n",
      "<__main__.Adult object at 0x0000029A77426E48>\n",
      "--------------------------------------------------------------------------------\n",
      "<__main__.Adult object at 0x0000029A7747BCC0>\n",
      "--------------------------------------------------------------------------------\n",
      "<__main__.Adult object at 0x0000029A7747BD30>\n",
      "--------------------------------------------------------------------------------\n",
      "<__main__.Adult object at 0x0000029A7747BDA0>\n",
      "--------------------------------------------------------------------------------\n",
      "<__main__.Adult object at 0x0000029A7747BE10>\n",
      "--------------------------------------------------------------------------------\n",
      "<__main__.Adult object at 0x0000029A7746FC50>\n",
      "--------------------------------------------------------------------------------\n"
     ]
    }
   ],
   "source": [
    "dict1 = (df.head().to_dict('index'))\n",
    "for x in dict1.values():\n",
    "    temp = Adult(**x)\n",
    "    session.add(temp)\n",
    "    \n",
    "# Commit flushes all the new data in session to the Database in memmory \n",
    "session.commit()\n",
    "    \n",
    "print(\"Following are the records from the adult table in memory retrieved and printed :\\n\",'-'*80)    \n",
    "# now retrieving the records from the session through query and printing \n",
    "for row in session.query(Adult).all():\n",
    "    print(row)\n",
    "    print('-'*80)"
   ]
  },
  {
   "cell_type": "code",
   "execution_count": 19,
   "metadata": {},
   "outputs": [
    {
     "name": "stdout",
     "output_type": "stream",
     "text": [
      "Records having  50 years aged  \n",
      " --------------------------------------------------------------------------------\n",
      "<__main__.Adult object at 0x0000029A7746FA90>\n",
      "--------------------------------------------------------------------------------\n",
      "<__main__.Adult object at 0x0000029A7746FD30>\n",
      "--------------------------------------------------------------------------------\n"
     ]
    }
   ],
   "source": [
    "print(\"Records having  50 years aged  \\n\",'-'*80)\n",
    "for adt in session.query(Adult).filter(Adult.age == 50):\n",
    "    print(adt)\n",
    "    print('-'*80)"
   ]
  },
  {
   "cell_type": "code",
   "execution_count": 20,
   "metadata": {},
   "outputs": [
    {
     "name": "stdout",
     "output_type": "stream",
     "text": [
      "After Updating hoursperweek to 20 and fetching records from DB \n",
      " --------------------------------------------------------------------------------\n",
      "<__main__.Adult object at 0x0000029A7747B7F0>\n",
      "--------------------------------------------------------------------------------\n",
      "<__main__.Adult object at 0x0000029A7746FD30>\n",
      "--------------------------------------------------------------------------------\n"
     ]
    }
   ],
   "source": [
    "session.query(Adult).filter(Adult.age == 50).update({'hoursperweek' : 20})\n",
    "session.commit()\n",
    "\n",
    "print(\"After Updating hoursperweek to 20 and fetching records from DB \\n\",'-'*80)\n",
    "for adt in session.query(Adult).filter(Adult.age == 50):\n",
    "    print(adt)\n",
    "    print('-'*80)"
   ]
  },
  {
   "cell_type": "code",
   "execution_count": 21,
   "metadata": {},
   "outputs": [
    {
     "name": "stdout",
     "output_type": "stream",
     "text": [
      "Checking if record exists where workclass is not Private \n",
      " --------------------------------------------------------------------------------\n",
      "<__main__.Adult object at 0x0000029A7748D2E8>\n",
      "--------------------------------------------------------------------------------\n",
      "<__main__.Adult object at 0x0000029A7746FD30>\n",
      "--------------------------------------------------------------------------------\n",
      "After Updating Workclass to Private and fetching from DB \n",
      " --------------------------------------------------------------------------------\n",
      "<__main__.Adult object at 0x0000029A7A93C860>\n",
      "--------------------------------------------------------------------------------\n",
      "<__main__.Adult object at 0x0000029A7A93C8D0>\n",
      "--------------------------------------------------------------------------------\n",
      "<__main__.Adult object at 0x0000029A7A93C940>\n",
      "--------------------------------------------------------------------------------\n",
      "<__main__.Adult object at 0x0000029A7A93C9B0>\n",
      "--------------------------------------------------------------------------------\n",
      "<__main__.Adult object at 0x0000029A7A93CA20>\n",
      "--------------------------------------------------------------------------------\n",
      "<__main__.Adult object at 0x0000029A7746FD30>\n",
      "--------------------------------------------------------------------------------\n",
      "<__main__.Adult object at 0x0000029A7A93CA90>\n",
      "--------------------------------------------------------------------------------\n",
      "<__main__.Adult object at 0x0000029A7A93CB00>\n",
      "--------------------------------------------------------------------------------\n",
      "<__main__.Adult object at 0x0000029A7A93CB70>\n",
      "--------------------------------------------------------------------------------\n",
      "<__main__.Adult object at 0x0000029A7746FC50>\n",
      "--------------------------------------------------------------------------------\n"
     ]
    }
   ],
   "source": [
    "print(\"Checking if record exists where workclass is not Private \\n\",'-'*80)\n",
    "for adt in session.query(Adult).filter(Adult.workclass != ' Private'):\n",
    "    print(adt)\n",
    "    print('-'*80)\n",
    "    \n",
    "session.query(Adult).filter(Adult.workclass != ' Private').update({'workclass' : ' Private'})\n",
    "session.commit()\n",
    "\n",
    "print(\"After Updating Workclass to Private and fetching from DB \\n\",'-'*80)\n",
    "for adt in session.query(Adult).all():\n",
    "    print(adt)\n",
    "    print('-'*80)"
   ]
  },
  {
   "cell_type": "code",
   "execution_count": 23,
   "metadata": {},
   "outputs": [],
   "source": [
    "Base.metadata.create_all(engine)\n",
    "\n",
    "#binding the engine to the session \n",
    "SessionMaker = sessionmaker(bind=engine)\n",
    "\n",
    "session = SessionMaker()\n",
    "\n",
    "# adding the data in the session , by first converting first 5 records to dictionary and then accessing individiuallyusing addall to add multiple rows \n",
    "\n",
    "dict1 = (df.head().to_dict('index'))\n",
    "for x in dict1.values():\n",
    "    temp = Adult(**x)\n",
    "    session.add(temp)\n",
    "    \n",
    "# Commit flushes all the new data in session to the Database in memmory \n",
    "session.commit()"
   ]
  },
  {
   "cell_type": "code",
   "execution_count": 25,
   "metadata": {},
   "outputs": [
    {
     "name": "stdout",
     "output_type": "stream",
     "text": [
      "Checking if record exists where workclass is not Private \n",
      " --------------------------------------------------------------------------------\n",
      "After Deleting and fetching from DB , check if  record now exists \n",
      " --------------------------------------------------------------------------------\n",
      "<__main__.Adult object at 0x0000029A7A92FBA8>\n",
      "--------------------------------------------------------------------------------\n",
      "<__main__.Adult object at 0x0000029A7A92FC18>\n",
      "--------------------------------------------------------------------------------\n",
      "<__main__.Adult object at 0x0000029A7A92FC88>\n",
      "--------------------------------------------------------------------------------\n",
      "<__main__.Adult object at 0x0000029A7A92FCF8>\n",
      "--------------------------------------------------------------------------------\n",
      "<__main__.Adult object at 0x0000029A7A92FD68>\n",
      "--------------------------------------------------------------------------------\n",
      "<__main__.Adult object at 0x0000029A7A92FDD8>\n",
      "--------------------------------------------------------------------------------\n",
      "<__main__.Adult object at 0x0000029A7A92FE48>\n",
      "--------------------------------------------------------------------------------\n",
      "<__main__.Adult object at 0x0000029A7A92FEB8>\n",
      "--------------------------------------------------------------------------------\n",
      "<__main__.Adult object at 0x0000029A7A92FF28>\n",
      "--------------------------------------------------------------------------------\n",
      "<__main__.Adult object at 0x0000029A7A92FF98>\n",
      "--------------------------------------------------------------------------------\n",
      "<__main__.Adult object at 0x0000029A7A931048>\n",
      "--------------------------------------------------------------------------------\n",
      "<__main__.Adult object at 0x0000029A7A9310B8>\n",
      "--------------------------------------------------------------------------------\n",
      "<__main__.Adult object at 0x0000029A7A931128>\n",
      "--------------------------------------------------------------------------------\n",
      "<__main__.Adult object at 0x0000029A7A931198>\n",
      "--------------------------------------------------------------------------------\n",
      "<__main__.Adult object at 0x0000029A7A931208>\n",
      "--------------------------------------------------------------------------------\n",
      "<__main__.Adult object at 0x0000029A7A931278>\n",
      "--------------------------------------------------------------------------------\n",
      "<__main__.Adult object at 0x0000029A7A9312E8>\n",
      "--------------------------------------------------------------------------------\n",
      "<__main__.Adult object at 0x0000029A7AADA358>\n",
      "--------------------------------------------------------------------------------\n"
     ]
    }
   ],
   "source": [
    "print(\"Checking if record exists where workclass is not Private \\n\",'-'*80)\n",
    "for adt in session.query(Adult).filter(Adult.workclass != ' Private'):\n",
    "    print(adt)\n",
    "    print('-'*80)\n",
    "    \n",
    "session.query(Adult).filter(Adult.workclass != ' Private').delete()\n",
    "session.commit()\n",
    "\n",
    "print(\"After Deleting and fetching from DB , check if  record now exists \\n\",'-'*80)\n",
    "for adt in session.query(Adult).all():\n",
    "    print(adt)\n",
    "    print('-'*80)"
   ]
  },
  {
   "cell_type": "code",
   "execution_count": 26,
   "metadata": {},
   "outputs": [
    {
     "name": "stdout",
     "output_type": "stream",
     "text": [
      "************ Query 2 *********** \n",
      "\n",
      "Checking if record exists where education Number is other than 13 \n",
      " --------------------------------------------------------------------------------\n",
      "<__main__.Adult object at 0x0000029A7A92FEF0>\n",
      "--------------------------------------------------------------------------------\n",
      "<__main__.Adult object at 0x0000029A7A92F320>\n",
      "--------------------------------------------------------------------------------\n",
      "<__main__.Adult object at 0x0000029A7A92F2E8>\n",
      "--------------------------------------------------------------------------------\n",
      "<__main__.Adult object at 0x0000029A7A92F3C8>\n",
      "--------------------------------------------------------------------------------\n",
      "<__main__.Adult object at 0x0000029A7A92FF98>\n",
      "--------------------------------------------------------------------------------\n",
      "<__main__.Adult object at 0x0000029A7A92F400>\n",
      "--------------------------------------------------------------------------------\n",
      "After Deleting the record , fetching from DB , if filtered record exists \n",
      " --------------------------------------------------------------------------------\n",
      "<__main__.Adult object at 0x0000029A7A92F7B8>\n",
      "--------------------------------------------------------------------------------\n",
      "<__main__.Adult object at 0x0000029A7A92F7F0>\n",
      "--------------------------------------------------------------------------------\n",
      "<__main__.Adult object at 0x0000029A7A92F860>\n",
      "--------------------------------------------------------------------------------\n",
      "<__main__.Adult object at 0x0000029A7A92F8D0>\n",
      "--------------------------------------------------------------------------------\n",
      "<__main__.Adult object at 0x0000029A7A92F940>\n",
      "--------------------------------------------------------------------------------\n",
      "<__main__.Adult object at 0x0000029A7A92FA20>\n",
      "--------------------------------------------------------------------------------\n",
      "<__main__.Adult object at 0x0000029A7A92F9E8>\n",
      "--------------------------------------------------------------------------------\n",
      "<__main__.Adult object at 0x0000029A7A92FB70>\n",
      "--------------------------------------------------------------------------------\n",
      "<__main__.Adult object at 0x0000029A7A939080>\n",
      "--------------------------------------------------------------------------------\n",
      "<__main__.Adult object at 0x0000029A7A9390F0>\n",
      "--------------------------------------------------------------------------------\n",
      "<__main__.Adult object at 0x0000029A7746FA90>\n",
      "--------------------------------------------------------------------------------\n",
      "<__main__.Adult object at 0x0000029A7AADA358>\n",
      "--------------------------------------------------------------------------------\n"
     ]
    }
   ],
   "source": [
    "print(\"************ Query 2 *********** \\n\")\n",
    "print(\"Checking if record exists where education Number is other than 13 \\n\",'-'*80)\n",
    "for adt in session.query(Adult).filter(Adult.educationNum == 13).all():\n",
    "    print(adt)\n",
    "    print('-'*80)\n",
    "    \n",
    "session.query(Adult).filter(Adult.educationNum == 13).delete()\n",
    "session.commit()\n",
    "\n",
    "print(\"After Deleting the record , fetching from DB , if filtered record exists \\n\",'-'*80)\n",
    "for adt in session.query(Adult).all():\n",
    "    print(adt)\n",
    "    print('-'*80)"
   ]
  },
  {
   "cell_type": "code",
   "execution_count": 27,
   "metadata": {},
   "outputs": [
    {
     "name": "stdout",
     "output_type": "stream",
     "text": [
      "To See those who have studied till masters  \n",
      " --------------------------------------------------------------------------------\n",
      "<__main__.Adult object at 0x0000029A7A93CF60>\n",
      "--------------------------------------------------------------------------------\n",
      "<__main__.Adult object at 0x0000029A7A93C6A0>\n",
      "--------------------------------------------------------------------------------\n",
      "<__main__.Adult object at 0x0000029A7A93C630>\n",
      "--------------------------------------------------------------------------------\n",
      "<__main__.Adult object at 0x0000029A7AADA358>\n",
      "--------------------------------------------------------------------------------\n",
      "************ Query 2 *********** \n",
      "\n",
      "To See how many people have studied masters \n",
      " --------------------------------------------------------------------------------\n",
      "4\n",
      "--------------------------------------------------------------------------------\n"
     ]
    }
   ],
   "source": [
    "\n",
    "print(\"To See those who have studied till masters  \\n\",'-'*80)\n",
    "for adt in session.query(Adult).filter(Adult.education.like('%Masters%')):\n",
    "    print(adt)\n",
    "    print('-'*80)\n",
    "    \n",
    "\n",
    "#********************************************************************\n",
    "#Query 2 : To see gender distribution by Country \n",
    "\n",
    "print(\"************ Query 2 *********** \\n\")\n",
    "\n",
    "print(\"To See how many people have studied masters \\n\",'-'*80)\n",
    "#print(session.query(Adult).filter(Adult.nativeCountry.like('%United-States%')).group_by(Adult.sex).count(Adult.sex))\n",
    "print(session.query(Adult).filter(Adult.education.like('%Masters%')).count())\n",
    "\n",
    "print('-'*80)"
   ]
  },
  {
   "cell_type": "code",
   "execution_count": 28,
   "metadata": {},
   "outputs": [
    {
     "name": "stdout",
     "output_type": "stream",
     "text": [
      "************ Query 1 *********** \n",
      "\n",
      "To show the gender distribution for country  \n",
      " --------------------------------------------------------------------------------\n",
      "[(' United-States', ' Female', 4), (' United-States', ' Male', 8)]\n",
      "--------------------------------------------------------------------------------\n",
      "************ Query 2 *********** \n",
      "\n",
      "To See how many people are married \n",
      " --------------------------------------------------------------------------------\n",
      "[(' Divorced', 4), (' Married-civ-spouse', 8)]\n",
      "--------------------------------------------------------------------------------\n"
     ]
    }
   ],
   "source": [
    "from sqlalchemy import func\n",
    "\n",
    "print(\"************ Query 1 *********** \\n\")\n",
    "\n",
    "#Query 1 : To get gender distribution for country \n",
    "\n",
    "print(\"To show the gender distribution for country  \\n\",'-'*80)\n",
    "print(session.query(Adult.nativeCountry,Adult.sex,func.count('*')).group_by(Adult.nativeCountry,Adult.sex).all())\n",
    "print('-'*80)\n",
    "    \n",
    "\n",
    "#********************************************************************\n",
    "#Query 2 : To see how many are married \n",
    "\n",
    "print(\"************ Query 2 *********** \\n\")\n",
    "\n",
    "print(\"To See how many people are married \\n\",'-'*80)\n",
    "print(session.query(Adult.maritalStatus,func.count('*')).group_by(Adult.maritalStatus).all())\n",
    "\n",
    "print('-'*80)"
   ]
  }
 ],
 "metadata": {
  "kernelspec": {
   "display_name": "Python 3",
   "language": "python",
   "name": "python3"
  },
  "language_info": {
   "codemirror_mode": {
    "name": "ipython",
    "version": 3
   },
   "file_extension": ".py",
   "mimetype": "text/x-python",
   "name": "python",
   "nbconvert_exporter": "python",
   "pygments_lexer": "ipython3",
   "version": "3.7.0"
  }
 },
 "nbformat": 4,
 "nbformat_minor": 2
}
